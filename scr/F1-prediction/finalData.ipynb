{
 "cells": [
  {
   "cell_type": "code",
   "execution_count": null,
   "id": "4c8fa2ce",
   "metadata": {},
   "outputs": [],
   "source": [
    "import pandas as pd  \n",
    "import numpy as np"
   ]
  },
  {
   "cell_type": "code",
   "execution_count": null,
   "id": "81702913",
   "metadata": {},
   "outputs": [],
   "source": [
    "result = pd.read_csv('../Dataset/archive/results.csv')\n",
    "drivers = pd.read_csv('../Dataset/archive/drivers.csv')\n",
    "races = pd.read_csv('../Dataset/archive/races.csv')\n",
    "constructors_standing = pd.read_csv('../Dataset/archive/constructor_standings.csv')\n",
    "drivers_standings = pd.read_csv('../Dataset/archive/driver_standings.csv')\n",
    "qualifying = pd.read_csv('../Dataset/archive/qualifying.csv')"
   ]
  },
  {
   "cell_type": "code",
   "execution_count": null,
   "id": "60cbb5b8",
   "metadata": {},
   "outputs": [],
   "source": []
  }
 ],
 "metadata": {
  "kernelspec": {
   "display_name": "env",
   "language": "python",
   "name": "python3"
  },
  "language_info": {
   "name": "python",
   "version": "3.12.3"
  }
 },
 "nbformat": 4,
 "nbformat_minor": 5
}
